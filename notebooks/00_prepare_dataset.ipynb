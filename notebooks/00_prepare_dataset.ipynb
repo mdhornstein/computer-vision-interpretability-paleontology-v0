{
  "nbformat": 4,
  "nbformat_minor": 0,
  "metadata": {
    "colab": {
      "provenance": [],
      "authorship_tag": "ABX9TyNKAVIzLebrz+PRXvr0BkLo",
      "include_colab_link": true
    },
    "kernelspec": {
      "name": "python3",
      "display_name": "Python 3"
    },
    "language_info": {
      "name": "python"
    }
  },
  "cells": [
    {
      "cell_type": "markdown",
      "metadata": {
        "id": "view-in-github",
        "colab_type": "text"
      },
      "source": [
        "<a href=\"https://colab.research.google.com/github/mdhornstein/computer-vision-interpretability-paleontology-v0/blob/main/notebooks/00_prepare_dataset.ipynb\" target=\"_parent\"><img src=\"https://colab.research.google.com/assets/colab-badge.svg\" alt=\"Open In Colab\"/></a>"
      ]
    },
    {
      "cell_type": "markdown",
      "source": [
        "# Prepare Fossil Image Dataset (FID) for classification experiments"
      ],
      "metadata": {
        "id": "gl5k-gSsgJiH"
      }
    },
    {
      "cell_type": "code",
      "source": [
        "import os\n",
        "import random\n",
        "import shutil\n",
        "import requests\n",
        "import pandas as pd\n",
        "from tqdm.notebook import tqdm\n",
        "from pathlib import Path"
      ],
      "metadata": {
        "id": "Kmjdy942gGFO"
      },
      "execution_count": 1,
      "outputs": []
    },
    {
      "cell_type": "code",
      "source": [
        "# --- Setup: clone repo if running in Colab ---\n",
        "\n",
        "# Change this to your repo\n",
        "REPO_URL = \"https://github.com/mdhornstein/computer-vision-interpretability-paleontology-v0.git\"\n",
        "REPO_NAME = REPO_URL.split(\"/\")[-1].replace(\".git\", \"\")\n",
        "\n",
        "if \"google.colab\" in str(get_ipython()):\n",
        "    if not os.path.exists(REPO_NAME):\n",
        "        !git clone {REPO_URL}\n",
        "    %cd {REPO_NAME}/notebook\n",
        "    !git pull\n",
        "    !pwd"
      ],
      "metadata": {
        "colab": {
          "base_uri": "https://localhost:8080/"
        },
        "id": "SaoTq3Zq9YcP",
        "outputId": "5d2582e3-289c-4692-b14a-9ef05543d25e"
      },
      "execution_count": 2,
      "outputs": [
        {
          "output_type": "stream",
          "name": "stdout",
          "text": [
            "Cloning into 'computer-vision-interpretability-paleontology-v0'...\n",
            "remote: Enumerating objects: 10, done.\u001b[K\n",
            "remote: Counting objects: 100% (10/10), done.\u001b[K\n",
            "remote: Compressing objects: 100% (8/8), done.\u001b[K\n",
            "remote: Total 10 (delta 1), reused 0 (delta 0), pack-reused 0 (from 0)\u001b[K\n",
            "Receiving objects: 100% (10/10), done.\n",
            "Resolving deltas: 100% (1/1), done.\n",
            "/content/computer-vision-interpretability-paleontology-v0\n",
            "Already up to date.\n",
            "/content/computer-vision-interpretability-paleontology-v0\n"
          ]
        }
      ]
    },
    {
      "cell_type": "code",
      "source": [
        "# --- Config ---\n",
        "# Which fossil groups to include? Adjust as needed\n",
        "CLASSES = [\"Trilobita\", \"Ammonoidea\"]\n",
        "DATA_DIR = \"../data\"   # relative to repo root\n",
        "VAL_SPLIT = 0.2\n",
        "SEED = 42"
      ],
      "metadata": {
        "id": "svdv6C32gNbd"
      },
      "execution_count": 3,
      "outputs": []
    },
    {
      "cell_type": "code",
      "source": [
        "# Download and extract the dataset from Zenodo ---\n",
        "!wget -O reduced-FID.zip \"https://zenodo.org/records/6333970/files/reduced-FID.zip?download=1\""
      ],
      "metadata": {
        "colab": {
          "base_uri": "https://localhost:8080/"
        },
        "id": "teccBbHerfYf",
        "outputId": "d19e71e2-f730-4c9e-abce-0ff5fa30d64f"
      },
      "execution_count": 4,
      "outputs": [
        {
          "output_type": "stream",
          "name": "stdout",
          "text": [
            "--2025-09-24 09:13:39--  https://zenodo.org/records/6333970/files/reduced-FID.zip?download=1\n",
            "Resolving zenodo.org (zenodo.org)... 188.185.45.92, 188.185.48.194, 188.185.43.25, ...\n",
            "Connecting to zenodo.org (zenodo.org)|188.185.45.92|:443... connected.\n",
            "HTTP request sent, awaiting response... 200 OK\n",
            "Length: 1819654497 (1.7G) [application/octet-stream]\n",
            "Saving to: ‘reduced-FID.zip’\n",
            "\n",
            "reduced-FID.zip     100%[===================>]   1.69G   822KB/s    in 35m 21s \n",
            "\n",
            "2025-09-24 09:49:01 (838 KB/s) - ‘reduced-FID.zip’ saved [1819654497/1819654497]\n",
            "\n"
          ]
        }
      ]
    },
    {
      "cell_type": "code",
      "source": [
        "!unzip -o reduced-FID.zip > fid_out.log 2> fid_err.log"
      ],
      "metadata": {
        "id": "LuXUkfjMri9r"
      },
      "execution_count": 9,
      "outputs": []
    },
    {
      "cell_type": "code",
      "source": [
        "!rm reduced-FID.zip"
      ],
      "metadata": {
        "id": "uJVMUHze-549"
      },
      "execution_count": null,
      "outputs": []
    },
    {
      "cell_type": "code",
      "source": [
        "!ls reduced-FID"
      ],
      "metadata": {
        "colab": {
          "base_uri": "https://localhost:8080/"
        },
        "id": "65rIOPsStgaY",
        "outputId": "e5c496d2-e549-4816-8705-2b07fc7da83f"
      },
      "execution_count": 10,
      "outputs": [
        {
          "output_type": "stream",
          "name": "stdout",
          "text": [
            " agnatha\t  conodont\t   marine_reptile   sauropodomorph\n",
            " ammonoid\t  coral\t\t   myriapod\t    shark_teeth\n",
            " amphibian\t  crinoid\t   nautiloid\t    snake\n",
            " angiosperm\t  crocodylomorph   ophiuroid\t    sponge\n",
            " avialae\t  crustacean\t   ornithischian    spore_or_pollen\n",
            " belemnite\t  echinoid\t   osteichthyes     starfish\n",
            " bivalve\t  foraminifer\t   ostracod\t    stromatolite\n",
            " blastoid\t  gastropod\t   petrified_wood  'Terms of access.docx'\n",
            " bone_fragment\t  graptolite\t   placoderms\t    theropod\n",
            " brachiopod\t  gymnosperm\t   pteridophyte     trace_fossil\n",
            " bryozoan\t  insect\t   pterosaurs\t    trilobite\n",
            " chelicerate\t  mammal\t   radiolarian\t    turtle\n",
            " chondrichthyes   mammal_teeth\t   reptile_teeth\n"
          ]
        }
      ]
    },
    {
      "cell_type": "code",
      "source": [
        "# List the first 10 files in the 'agnatha' directory of the extracted dataset\n",
        "!ls reduced-FID/agnatha/ | head"
      ],
      "metadata": {
        "colab": {
          "base_uri": "https://localhost:8080/"
        },
        "id": "PEndwElYt6TA",
        "outputId": "13492bb6-6b11-442c-82ec-483da17e1988"
      },
      "execution_count": 11,
      "outputs": [
        {
          "output_type": "stream",
          "name": "stdout",
          "text": [
            "045.jpg\n",
            "061025.lamprey2-200.jpg\n",
            "0D4AAOSwnBRgNsn~s-l1600.jpg\n",
            "100.tumblr_msal0qg4oo1sh1ns2o2_500 (2).jpg\n",
            "102.pict0155.jpg\n",
            "102.tully_monster.jpg\n",
            "102.tumblr_mn5i3ng5ss1spmwbxo1_400.jpg\n",
            "103.48320371757_f14a613401_m.jpg\n",
            "106.img_20200811_170136.jpg.ffaacadf2fa3b4a173b996acbbd58163.jpg\n",
            "107.acd494bf0b97b6706cf53918be87cb2e.jpg\n"
          ]
        }
      ]
    },
    {
      "cell_type": "code",
      "source": [
        "# --- Step 2: Prepare dataset for classification ---\n",
        "# This cell splits the dataset into training and validation sets\n",
        "# for the specified classes and organizes them into a new directory structure.\n",
        "\n",
        "# Paths\n",
        "SOURCE_DIR = Path(\"reduced-FID\")\n",
        "\n",
        "experiment_name = \"exp1\"\n",
        "TARGET_DIR = Path(DATA_DIR) / experiment_name\n",
        "\n",
        "# Clean up any old data dir if rerunning\n",
        "if TARGET_DIR.exists():\n",
        "    shutil.rmtree(TARGET_DIR)\n",
        "\n",
        "# Create train/val dirs\n",
        "for split in [\"train\", \"val\"]:\n",
        "    (TARGET_DIR / split).mkdir(parents=True, exist_ok=True)\n",
        "\n",
        "# Split ratio\n",
        "train_ratio = 0.8\n",
        "\n",
        "# Go through each clade directory\n",
        "for clade_dir in SOURCE_DIR.iterdir():\n",
        "    if clade_dir.is_dir():\n",
        "        clade_name = clade_dir.name\n",
        "        # Only process specified classes\n",
        "        if clade_name in CLASSES:\n",
        "            images = list(clade_dir.glob(\"*\"))\n",
        "            random.shuffle(images)\n",
        "\n",
        "            split_idx = int(len(images) * train_ratio)\n",
        "            train_imgs = images[:split_idx]\n",
        "            val_imgs = images[split_idx:]\n",
        "\n",
        "            # Create clade subdirs\n",
        "            (TARGET_DIR / \"train\" / clade_name).mkdir(parents=True, exist_ok=True)\n",
        "            (TARGET_DIR / \"val\" / clade_name).mkdir(parents=True, exist_ok=True)\n",
        "\n",
        "            # Copy files\n",
        "            for img in train_imgs:\n",
        "                shutil.copy(img, TARGET_DIR / \"train\" / clade_name / img.name)\n",
        "            for img in val_imgs:\n",
        "                shutil.copy(img, TARGET_DIR / \"val\" / clade_name / img.name)\n",
        "\n",
        "print(\"✅ Dataset prepared at:\", TARGET_DIR.resolve())"
      ],
      "metadata": {
        "colab": {
          "base_uri": "https://localhost:8080/"
        },
        "id": "MuqgvOWeoDcT",
        "outputId": "bf73357d-67ca-4e25-b4f0-7d04bd394195"
      },
      "execution_count": 17,
      "outputs": [
        {
          "output_type": "stream",
          "name": "stdout",
          "text": [
            "✅ Dataset prepared at: /content/computer-vision-interpretability-paleontology-v0/data/exp1\n"
          ]
        }
      ]
    },
    {
      "cell_type": "code",
      "source": [],
      "metadata": {
        "colab": {
          "base_uri": "https://localhost:8080/"
        },
        "id": "3yf0UB2AzLsq",
        "outputId": "9c2d6f0b-346c-4459-a165-a66f1d0ebe0b"
      },
      "execution_count": 24,
      "outputs": [
        {
          "output_type": "stream",
          "name": "stdout",
          "text": [
            "/content\n"
          ]
        }
      ]
    },
    {
      "cell_type": "code",
      "source": [],
      "metadata": {
        "id": "ZUABFwKjzQJw"
      },
      "execution_count": null,
      "outputs": []
    }
  ]
}