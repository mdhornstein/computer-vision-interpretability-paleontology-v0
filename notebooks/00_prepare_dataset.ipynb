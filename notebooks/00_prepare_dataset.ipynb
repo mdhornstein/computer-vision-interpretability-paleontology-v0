{
  "nbformat": 4,
  "nbformat_minor": 0,
  "metadata": {
    "colab": {
      "provenance": [],
      "authorship_tag": "ABX9TyPc1uTNOJdHXwgk4uHCx2wK",
      "include_colab_link": true
    },
    "kernelspec": {
      "name": "python3",
      "display_name": "Python 3"
    },
    "language_info": {
      "name": "python"
    }
  },
  "cells": [
    {
      "cell_type": "markdown",
      "metadata": {
        "id": "view-in-github",
        "colab_type": "text"
      },
      "source": [
        "<a href=\"https://colab.research.google.com/github/mdhornstein/computer-vision-interpretability-paleontology-v0/blob/main/notebooks/00_prepare_dataset.ipynb\" target=\"_parent\"><img src=\"https://colab.research.google.com/assets/colab-badge.svg\" alt=\"Open In Colab\"/></a>"
      ]
    },
    {
      "cell_type": "markdown",
      "source": [
        "# Prepare Fossil Image Dataset (FID) for classification experiments"
      ],
      "metadata": {
        "id": "gl5k-gSsgJiH"
      }
    },
    {
      "cell_type": "code",
      "source": [
        "import os\n",
        "import random\n",
        "import shutil\n",
        "import requests\n",
        "import pandas as pd"
      ],
      "metadata": {
        "id": "Kmjdy942gGFO"
      },
      "execution_count": 2,
      "outputs": []
    },
    {
      "cell_type": "code",
      "source": [
        "# --- Config ---\n",
        "# Which fossil groups to include? Adjust as needed\n",
        "CLASSES = [\"Trilobita\", \"Ammonoidea\"]\n",
        "DATA_DIR = \"../data\"   # relative to repo root\n",
        "VAL_SPLIT = 0.2\n",
        "SEED = 42"
      ],
      "metadata": {
        "id": "svdv6C32gNbd"
      },
      "execution_count": null,
      "outputs": []
    }
  ]
}