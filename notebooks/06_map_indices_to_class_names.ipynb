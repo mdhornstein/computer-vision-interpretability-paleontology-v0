{
 "cells": [
  {
   "cell_type": "code",
   "execution_count": 1,
   "id": "276172b9",
   "metadata": {},
   "outputs": [],
   "source": [
    "import random\n",
    "import tensorflow as tf\n",
    "from pathlib import Path\n",
    "import matplotlib.pyplot as plt\n",
    "import numpy as np\n",
    "from tensorflow.keras.preprocessing import image\n",
    "import json \n",
    "import pandas "
   ]
  },
  {
   "cell_type": "code",
   "execution_count": 2,
   "id": "c42a6b45",
   "metadata": {},
   "outputs": [],
   "source": [
    "# Data path\n",
    "BASE_DIR = Path(\"/Users/ma/Library/CloudStorage/GoogleDrive-mdhornstein@gmail.com/My Drive/cv_paleontology/\")\n",
    "FID_DATA_PATH = BASE_DIR / \"data\" / \"reduced-FID\"\n",
    "\n",
    "# Model path\n",
    "MODEL_PATH = Path(\"../models/fid_classification/tf1_from_community_allow_train/1\")"
   ]
  },
  {
   "cell_type": "code",
   "execution_count": 3,
   "id": "a068070d",
   "metadata": {},
   "outputs": [
    {
     "name": "stdout",
     "output_type": "stream",
     "text": [
      "Loading model...\n",
      "Model loaded!\n"
     ]
    }
   ],
   "source": [
    "print(\"Loading model...\")\n",
    "model = tf.saved_model.load(str(MODEL_PATH))   # <-- TF1-style load\n",
    "print(\"Model loaded!\")"
   ]
  },
  {
   "cell_type": "code",
   "execution_count": 4,
   "id": "91463b02",
   "metadata": {},
   "outputs": [
    {
     "name": "stdout",
     "output_type": "stream",
     "text": [
      "Signature keys: ['serving_default']\n",
      "Inputs: ((), {'input': TensorSpec(shape=(None, 299, 299, 3), dtype=tf.float32, name='input')})\n",
      "Outputs: {'logits': <tf.Tensor 'InceptionResnetV2/Logits/Logits/BiasAdd:0' shape=(None, 50) dtype=float32>, 'predictions': <tf.Tensor 'predictions:0' shape=(None, 50) dtype=float32>}\n"
     ]
    }
   ],
   "source": [
    "infer = model.signatures[\"serving_default\"]\n",
    "print(\"Signature keys:\", list(model.signatures.keys()))\n",
    "print(\"Inputs:\", infer.structured_input_signature)\n",
    "print(\"Outputs:\", infer.structured_outputs)"
   ]
  },
  {
   "cell_type": "code",
   "execution_count": 5,
   "id": "72b94f65",
   "metadata": {},
   "outputs": [
    {
     "name": "stdout",
     "output_type": "stream",
     "text": [
      "Available outputs: dict_keys(['logits', 'predictions'])\n",
      "Logits shape: (1, 50)\n",
      "Predictions shape: (1, 50)\n",
      "Top predicted class index: 47\n",
      "Prob distribution (first 5 classes): [0.00080941 0.00347048 0.00939777 0.02229282 0.0122939 ]\n"
     ]
    }
   ],
   "source": [
    "# Test that the model is loaded by applying it to a dummy image \n",
    "\n",
    "# Create a dummy image (batch size 1, 299x299 RGB)\n",
    "dummy = np.random.rand(1, 299, 299, 3).astype(np.float32)\n",
    "\n",
    "# Run inference\n",
    "outputs = infer(input=tf.convert_to_tensor(dummy))\n",
    "\n",
    "print(\"Available outputs:\", outputs.keys())\n",
    "print(\"Logits shape:\", outputs[\"logits\"].shape)\n",
    "print(\"Predictions shape:\", outputs[\"predictions\"].shape)\n",
    "\n",
    "# Check top prediction\n",
    "preds = outputs[\"predictions\"].numpy()\n",
    "top_class = np.argmax(preds, axis=1)[0]\n",
    "print(\"Top predicted class index:\", top_class)\n",
    "print(\"Prob distribution (first 5 classes):\", preds[0, :5])"
   ]
  },
  {
   "cell_type": "code",
   "execution_count": 6,
   "id": "6a427a32",
   "metadata": {},
   "outputs": [
    {
     "name": "stdout",
     "output_type": "stream",
     "text": [
      "Classes: ['agnatha', 'ammonoid', 'amphibian', 'angiosperm', 'avialae', 'belemnite', 'bivalve', 'blastoid', 'bone_fragment', 'brachiopod', 'bryozoan', 'chelicerate', 'chondrichthyes', 'conodont', 'coral', 'crinoid', 'crocodylomorph', 'crustacean', 'echinoid', 'foraminifer', 'gastropod', 'graptolite', 'gymnosperm', 'insect', 'mammal', 'mammal_teeth', 'marine_reptile', 'myriapod', 'nautiloid', 'ophiuroid', 'ornithischian', 'osteichthyes', 'ostracod', 'petrified_wood', 'placoderms', 'pteridophyte', 'pterosaurs', 'radiolarian', 'reptile_teeth', 'sauropodomorph', 'shark_teeth', 'snake', 'sponge', 'spore_or_pollen', 'starfish', 'stromatolite', 'theropod', 'trace_fossil', 'trilobite', 'turtle']\n"
     ]
    }
   ],
   "source": [
    "# Get class names from directory structure\n",
    "class_names = sorted([d.name for d in FID_DATA_PATH.iterdir() if d.is_dir()])\n",
    "print(\"Classes:\", class_names)"
   ]
  },
  {
   "cell_type": "code",
   "execution_count": 7,
   "id": "c28d8841",
   "metadata": {},
   "outputs": [],
   "source": [
    "# --- Preprocessing ---\n",
    "IMG_SIZE = 299\n",
    "def preprocess_image_keras_normalization(path):\n",
    "    img = tf.io.read_file(str(path))                # streamed directly from Drive\n",
    "    img = tf.image.decode_jpeg(img, channels=3)\n",
    "    img_resized = tf.image.resize(img, (IMG_SIZE, IMG_SIZE))\n",
    "    img_norm = tf.keras.applications.inception_resnet_v2.preprocess_input(img_resized)\n",
    "    return img, img_norm"
   ]
  },
  {
   "cell_type": "code",
   "execution_count": 8,
   "id": "fe60bf32",
   "metadata": {},
   "outputs": [],
   "source": [
    "def predict(img_norm):\n",
    "    batch = tf.expand_dims(img_norm, axis=0)\n",
    "    output = infer(input=batch)\n",
    "    return output[\"predictions\"].numpy()[0]"
   ]
  },
  {
   "cell_type": "code",
   "execution_count": 14,
   "id": "19a71903",
   "metadata": {},
   "outputs": [
    {
     "name": "stdout",
     "output_type": "stream",
     "text": [
      "# images: 1206\n",
      "prediction result:  {'true_clade': 'agnatha', 'pred_idx': 0, 'confidence': 0.99999964, 'img_name': '102.tully_monster.jpg'}\n",
      "prediction result:  {'true_clade': 'agnatha', 'pred_idx': 0, 'confidence': 0.50946766, 'img_name': '15.s-l300.jpg'}\n",
      "prediction result:  {'true_clade': 'agnatha', 'pred_idx': 0, 'confidence': 0.9999995, 'img_name': '╬▐Єв╙у_152.i10-30-fishes_3.jpg'}\n",
      "# images: 1199\n",
      "prediction result:  {'true_clade': 'ammonoid', 'pred_idx': 1, 'confidence': 0.99619883, 'img_name': '51Twx39QsVL.jpg'}\n",
      "prediction result:  {'true_clade': 'ammonoid', 'pred_idx': 1, 'confidence': 0.99593544, 'img_name': '5mgAAOSwn9VaUsPKs-l1600.jpg'}\n",
      "prediction result:  {'true_clade': 'ammonoid', 'pred_idx': 1, 'confidence': 0.9997197, 'img_name': '45kAAOSwkvFaV~f6s-l1600.jpg'}\n",
      "# images: 1199\n",
      "prediction result:  {'true_clade': 'amphibian', 'pred_idx': 39, 'confidence': 0.43233594, 'img_name': '657e16d441b61f_Nr_2D.JPG.3663f72c4acc.jpg'}\n",
      "prediction result:  {'true_clade': 'amphibian', 'pred_idx': 2, 'confidence': 0.99999464, 'img_name': '291.3-s2.0-b9780123741738500119-f10-109-9780123741738.jpg'}\n",
      "prediction result:  {'true_clade': 'amphibian', 'pred_idx': 2, 'confidence': 0.9999622, 'img_name': '89.5537280.jpg'}\n",
      "# images: 1200\n",
      "prediction result:  {'true_clade': 'angiosperm', 'pred_idx': 3, 'confidence': 0.9999639, 'img_name': 'iTsAAOSw5wVd1km1s-l1600.jpg'}\n",
      "prediction result:  {'true_clade': 'angiosperm', 'pred_idx': 3, 'confidence': 0.999998, 'img_name': '211.f04_135.jpg'}\n",
      "prediction result:  {'true_clade': 'angiosperm', 'pred_idx': 3, 'confidence': 0.99989235, 'img_name': '30.8.jpg'}\n",
      "# images: 1199\n"
     ]
    },
    {
     "name": "stderr",
     "output_type": "stream",
     "text": [
      "2025-10-01 16:18:05.430715: W tensorflow/core/lib/png/png_io.cc:88] PNG warning: iCCP: known incorrect sRGB profile\n"
     ]
    },
    {
     "name": "stdout",
     "output_type": "stream",
     "text": [
      "prediction result:  {'true_clade': 'avialae', 'pred_idx': 5, 'confidence': 0.9992982, 'img_name': '94.jeholornis_prima.png'}\n",
      "prediction result:  {'true_clade': 'avialae', 'pred_idx': 5, 'confidence': 0.99994206, 'img_name': 'W7A4696-studio-studio.jpg'}\n",
      "prediction result:  {'true_clade': 'avialae', 'pred_idx': 5, 'confidence': 0.99486536, 'img_name': '366.s-l300.jpg'}\n",
      "# images: 1199\n",
      "prediction result:  {'true_clade': 'belemnite', 'pred_idx': 7, 'confidence': 0.64565283, 'img_name': 'BsQAAOSwEC9dxfYXs-l1600.jpg'}\n",
      "prediction result:  {'true_clade': 'belemnite', 'pred_idx': 6, 'confidence': 0.9999727, 'img_name': 'belemnitella-mucronata-33.jpg'}\n",
      "prediction result:  {'true_clade': 'belemnite', 'pred_idx': 6, 'confidence': 0.99939895, 'img_name': 'belemnite_121.l_p1010057_1.jpg'}\n",
      "# images: 1200\n",
      "prediction result:  {'true_clade': 'bivalve', 'pred_idx': 7, 'confidence': 0.9986565, 'img_name': '_16C7620.JPG.68e177eb7416d424ae2c4d7acd83bcad.jpg'}\n",
      "prediction result:  {'true_clade': 'bivalve', 'pred_idx': 7, 'confidence': 0.92623067, 'img_name': '3.jpg.d09f96f68e20e04855d43b805d8664.jpg'}\n",
      "prediction result:  {'true_clade': 'bivalve', 'pred_idx': 7, 'confidence': 0.9999794, 'img_name': '0tgAAOSw669f~Cqvs-l1600.jpg'}\n",
      "# images: 1199\n",
      "prediction result:  {'true_clade': 'blastoid', 'pred_idx': 8, 'confidence': 0.99999845, 'img_name': '8PTP-003e.jpg'}\n",
      "prediction result:  {'true_clade': 'blastoid', 'pred_idx': 8, 'confidence': 0.99986875, 'img_name': 'pentremites-pyramidatus-1.jpg'}\n",
      "prediction result:  {'true_clade': 'blastoid', 'pred_idx': 8, 'confidence': 0.9999701, 'img_name': '32.pentremites-godoni.jpg'}\n",
      "# images: 1199\n",
      "prediction result:  {'true_clade': 'bone_fragment', 'pred_idx': 9, 'confidence': 0.9997993, 'img_name': '53gAAOxyOBJRBygts-l1600.jpg'}\n",
      "prediction result:  {'true_clade': 'bone_fragment', 'pred_idx': 9, 'confidence': 0.6246842, 'img_name': '37.fossils0018-web.jpg'}\n",
      "prediction result:  {'true_clade': 'bone_fragment', 'pred_idx': 9, 'confidence': 0.59408534, 'img_name': 'dsc02904-copy-3_orig.png'}\n",
      "# images: 1200\n",
      "prediction result:  {'true_clade': 'brachiopod', 'pred_idx': 10, 'confidence': 0.9999809, 'img_name': 'daa813dc-2ff0-4956-970b-fc8a7b8a033a.jpg'}\n",
      "prediction result:  {'true_clade': 'brachiopod', 'pred_idx': 10, 'confidence': 0.9985429, 'img_name': 'post-7129-0-92785700-1365437365 (4).jpg'}\n",
      "prediction result:  {'true_clade': 'brachiopod', 'pred_idx': 10, 'confidence': 0.9999312, 'img_name': 'n~gAAOSw7vRfZllNs-l1600.jpg'}\n",
      "# images: 1200\n",
      "prediction result:  {'true_clade': 'bryozoan', 'pred_idx': 11, 'confidence': 0.99694556, 'img_name': '23.figures-8-13-triphyllozoon-arcuatum-8-11-ufba-560-todos-os-santos-bay-bahia-brazil_q320.jpg'}\n",
      "prediction result:  {'true_clade': 'bryozoan', 'pred_idx': 11, 'confidence': 0.99823856, 'img_name': '162.phpgkoip0 (2).png'}\n",
      "prediction result:  {'true_clade': 'bryozoan', 'pred_idx': 10, 'confidence': 0.74794626, 'img_name': 'post-6808-0-62207900-1324974743 (3).jpg'}\n",
      "# images: 1197\n",
      "prediction result:  {'true_clade': 'chelicerate', 'pred_idx': 12, 'confidence': 0.9998006, 'img_name': 'eurypterus-remipes-121.jpg'}\n",
      "prediction result:  {'true_clade': 'chelicerate', 'pred_idx': 12, 'confidence': 0.98550665, 'img_name': 'rucAAOSwTudfqaYks-l1600.jpg'}\n",
      "prediction result:  {'true_clade': 'chelicerate', 'pred_idx': 12, 'confidence': 0.99966776, 'img_name': '224.geological-enterprises-silurian-fossil-sea-scorpion-eurypterus-remipes.jpg'}\n",
      "# images: 1200\n",
      "prediction result:  {'true_clade': 'chondrichthyes', 'pred_idx': 13, 'confidence': 0.9980597, 'img_name': '128.159942223_resin-transfered-fossil-guitarfish-rhinobatos-3-.jpg'}\n",
      "prediction result:  {'true_clade': 'chondrichthyes', 'pred_idx': 13, 'confidence': 0.9998085, 'img_name': '╚э╣╟╙у_187.image.php_1.jpg'}\n",
      "prediction result:  {'true_clade': 'chondrichthyes', 'pred_idx': 13, 'confidence': 0.99987924, 'img_name': '246.common-guitarfish-rhinobatos-rhinobatos-ria-of-vigo-pontevedra-province-galicia-spain-x9y7c3.jpg'}\n",
      "# images: 453\n",
      "prediction result:  {'true_clade': 'conodont', 'pred_idx': 14, 'confidence': 0.99999285, 'img_name': 'conodont_SEM-photos-of-conodonts-obtained-fro-3_11.jpg'}\n",
      "prediction result:  {'true_clade': 'conodont', 'pred_idx': 14, 'confidence': 0.9999715, 'img_name': 'conodont_218.littleantelopesummit140_12.jpg'}\n",
      "prediction result:  {'true_clade': 'conodont', 'pred_idx': 14, 'confidence': 0.9999026, 'img_name': 'conodont_f05_161_2.jpg'}\n",
      "# images: 1198\n",
      "prediction result:  {'true_clade': 'coral', 'pred_idx': 15, 'confidence': 0.9991541, 'img_name': '2IEAAOSwYZBgBfiMs-l1600.jpg'}\n",
      "prediction result:  {'true_clade': 'coral', 'pred_idx': 15, 'confidence': 0.9987684, 'img_name': 'HTMAAOSwGUJfP1iWs-l1600.jpg'}\n",
      "prediction result:  {'true_clade': 'coral', 'pred_idx': 16, 'confidence': 0.9902947, 'img_name': 'DvYAAOSwdrdfKdj1s-l1600.jpg'}\n",
      "# images: 1199\n",
      "prediction result:  {'true_clade': 'crinoid', 'pred_idx': 16, 'confidence': 0.9999722, 'img_name': 'OT8AAOSwaTxgFy5is-l1600.jpg'}\n",
      "prediction result:  {'true_clade': 'crinoid', 'pred_idx': 16, 'confidence': 0.99999905, 'img_name': '104.scyphocrinites-aff-elegans-cr121-23.jpg'}\n",
      "prediction result:  {'true_clade': 'crinoid', 'pred_idx': 16, 'confidence': 0.9996561, 'img_name': '151.220px-cladida_-_abrotocrinus.jpg'}\n",
      "# images: 1199\n",
      "prediction result:  {'true_clade': 'crocodylomorph', 'pred_idx': 17, 'confidence': 0.9021792, 'img_name': 'crocodile-skeleton-oniyama-jigoku-mo-1.jpg'}\n",
      "prediction result:  {'true_clade': 'crocodylomorph', 'pred_idx': 17, 'confidence': 0.99996626, 'img_name': 'skulls-crocodile-replica-5e4402b9.jpg'}\n",
      "prediction result:  {'true_clade': 'crocodylomorph', 'pred_idx': 17, 'confidence': 0.99999, 'img_name': 'close-up-crocodile-26197231.jpg'}\n",
      "# images: 1199\n",
      "prediction result:  {'true_clade': 'crustacean', 'pred_idx': 18, 'confidence': 0.9997832, 'img_name': '6image-2.jpg'}\n",
      "prediction result:  {'true_clade': 'crustacean', 'pred_idx': 18, 'confidence': 0.9995327, 'img_name': '╧║_62.shx028yrt__91779.1445154629.jpg_1.jpg'}\n",
      "prediction result:  {'true_clade': 'crustacean', 'pred_idx': 18, 'confidence': 0.99977463, 'img_name': '╢╘╧║_191.il_340x270.2738575504_jrnk_3.jpg'}\n",
      "# images: 1200\n",
      "prediction result:  {'true_clade': 'echinoid', 'pred_idx': 19, 'confidence': 0.9999554, 'img_name': '79.d1abd943-4cc8-4d5e-a4a1-373fa3a9719c.jpg'}\n",
      "prediction result:  {'true_clade': 'echinoid', 'pred_idx': 19, 'confidence': 0.99937576, 'img_name': '201.il_794xn.1579901041_t3gw.jpg'}\n",
      "prediction result:  {'true_clade': 'echinoid', 'pred_idx': 19, 'confidence': 0.9999689, 'img_name': 'cidaropsis-2.jpg'}\n",
      "# images: 1200\n",
      "prediction result:  {'true_clade': 'foraminifer', 'pred_idx': 20, 'confidence': 0.99989295, 'img_name': '2000d00907_1_.jpg'}\n",
      "prediction result:  {'true_clade': 'foraminifer', 'pred_idx': 20, 'confidence': 0.99995756, 'img_name': 'foraminifera_1.a-h-nano-ct-scan-of-planktonic-foraminifera-specimens-with-colourmap-of-test-thickness.jpg_7.jpg'}\n",
      "prediction result:  {'true_clade': 'foraminifer', 'pred_idx': 20, 'confidence': 0.9997582, 'img_name': 'foraminifera_bjdifdphefz_2.jpg'}\n",
      "# images: 1199\n",
      "prediction result:  {'true_clade': 'gastropod', 'pred_idx': 21, 'confidence': 0.9974136, 'img_name': 'csEAAOSwr15fzzSFs-l1600.jpg'}\n",
      "prediction result:  {'true_clade': 'gastropod', 'pred_idx': 21, 'confidence': 0.9999409, 'img_name': 's-l640-9.jpg'}\n",
      "prediction result:  {'true_clade': 'gastropod', 'pred_idx': 21, 'confidence': 0.9999963, 'img_name': 'gastropod_7SMAAOSwpqFgGxOKs-l1600_8.jpg'}\n",
      "# images: 1200\n",
      "prediction result:  {'true_clade': 'graptolite', 'pred_idx': 22, 'confidence': 0.9999893, 'img_name': 'monograptus-silurian-czech-republic..jpg'}\n",
      "prediction result:  {'true_clade': 'graptolite', 'pred_idx': 22, 'confidence': 0.80099046, 'img_name': '▒╩╩п_325.image_4.jpg'}\n",
      "prediction result:  {'true_clade': 'graptolite', 'pred_idx': 22, 'confidence': 1.0, 'img_name': 's-l300-6.jpg'}\n",
      "# images: 1197\n",
      "prediction result:  {'true_clade': 'gymnosperm', 'pred_idx': 23, 'confidence': 0.99992263, 'img_name': 'J~0AAOSwxXJcX1rqs-l1600.jpg'}\n",
      "prediction result:  {'true_clade': 'gymnosperm', 'pred_idx': 23, 'confidence': 0.9999982, 'img_name': '199.ginkgo-2.jpg'}\n",
      "prediction result:  {'true_clade': 'gymnosperm', 'pred_idx': 23, 'confidence': 0.99996567, 'img_name': '~kAAAOSwwqpgFIG0s-l1600.jpg'}\n",
      "# images: 1200\n",
      "prediction result:  {'true_clade': 'insect', 'pred_idx': 24, 'confidence': 0.9997893, 'img_name': '4loAAOSwm9dgIfIVs-l1600.jpg'}\n",
      "prediction result:  {'true_clade': 'insect', 'pred_idx': 24, 'confidence': 0.9998617, 'img_name': 'insect_unidentified-insect-1_1.jpg'}\n",
      "prediction result:  {'true_clade': 'insect', 'pred_idx': 24, 'confidence': 0.9998159, 'img_name': 'insect_si050b_1.jpg'}\n",
      "# images: 1198\n",
      "prediction result:  {'true_clade': 'mammal', 'pred_idx': 25, 'confidence': 0.9999939, 'img_name': 'N-Larkin-quagga-after.jpg'}\n",
      "prediction result:  {'true_clade': 'mammal', 'pred_idx': 25, 'confidence': 0.9999943, 'img_name': 'Tarsier tarsier, Spectral tarsier, Tangkoko, Sulawesi IMG_9929.jpg'}\n",
      "prediction result:  {'true_clade': 'mammal', 'pred_idx': 25, 'confidence': 0.9998423, 'img_name': '228.fossil-auction-woo_1493440i.jpg.jpg'}\n",
      "# images: 1200\n",
      "prediction result:  {'true_clade': 'mammal_teeth', 'pred_idx': 26, 'confidence': 0.9999994, 'img_name': '25.33449236-0-image-a-9_1600712469152.jpg'}\n",
      "prediction result:  {'true_clade': 'mammal_teeth', 'pred_idx': 26, 'confidence': 0.9998919, 'img_name': '221.20040521mi2c.jpeg'}\n",
      "prediction result:  {'true_clade': 'mammal_teeth', 'pred_idx': 26, 'confidence': 0.80960757, 'img_name': 's-l300-399.jpg'}\n",
      "# images: 1199\n",
      "prediction result:  {'true_clade': 'marine_reptile', 'pred_idx': 27, 'confidence': 0.999985, 'img_name': 'V0oAAOSwGCBenQvLs-l1600.jpg'}\n",
      "prediction result:  {'true_clade': 'marine_reptile', 'pred_idx': 27, 'confidence': 0.7481407, 'img_name': '84.mesozoic-sedimentary-rock-600x306.jpg'}\n",
      "prediction result:  {'true_clade': 'marine_reptile', 'pred_idx': 27, 'confidence': 0.9115416, 'img_name': 'kuvp1001.jpg'}\n",
      "# images: 1200\n",
      "prediction result:  {'true_clade': 'myriapod', 'pred_idx': 28, 'confidence': 0.99985063, 'img_name': '79.scariest-centipedes-on-earth.jpg'}\n",
      "prediction result:  {'true_clade': 'myriapod', 'pred_idx': 28, 'confidence': 0.9986987, 'img_name': '183.giant-centipede-on-footpath-kenting-national-forest-recreation-area-picture-id467128484.jpg'}\n",
      "prediction result:  {'true_clade': 'myriapod', 'pred_idx': 28, 'confidence': 0.7325924, 'img_name': '44.euphoberia-ferox-fossil-millipede-adjrj6.jpg'}\n",
      "# images: 1199\n",
      "prediction result:  {'true_clade': 'nautiloid', 'pred_idx': 29, 'confidence': 0.99999654, 'img_name': 'nautilus_utsAAOSwaZFbBNTns-l1600_3.jpg'}\n",
      "prediction result:  {'true_clade': 'nautiloid', 'pred_idx': 29, 'confidence': 0.9956866, 'img_name': '2016-09-254.jpg.cb3016506ffe6b8ab960.jpg'}\n",
      "prediction result:  {'true_clade': 'nautiloid', 'pred_idx': 29, 'confidence': 0.8043491, 'img_name': '183.brv12669-fig-0005-m.jpg'}\n",
      "# images: 1200\n",
      "prediction result:  {'true_clade': 'ophiuroid', 'pred_idx': 30, 'confidence': 0.9999958, 'img_name': '050622chgg8102m3a.jpg'}\n",
      "prediction result:  {'true_clade': 'ophiuroid', 'pred_idx': 30, 'confidence': 0.999653, 'img_name': '91.sinosura.jpg'}\n",
      "prediction result:  {'true_clade': 'ophiuroid', 'pred_idx': 30, 'confidence': 0.99993026, 'img_name': 'kYgAAOSwxS9cX1BQs-l1600.jpg'}\n",
      "# images: 1199\n",
      "prediction result:  {'true_clade': 'ornithischian', 'pred_idx': 31, 'confidence': 0.9999281, 'img_name': '159.closeup-of-ass-opening-horns-vs-others.jpg'}\n",
      "prediction result:  {'true_clade': 'ornithischian', 'pred_idx': 31, 'confidence': 0.9873843, 'img_name': '127.tumblr_oqxb1cny171rmkbkno1_500.jpg'}\n",
      "prediction result:  {'true_clade': 'ornithischian', 'pred_idx': 31, 'confidence': 0.99900144, 'img_name': '120px-Chasmosaurus_skull.jpg'}\n",
      "# images: 1198\n",
      "prediction result:  {'true_clade': 'osteichthyes', 'pred_idx': 32, 'confidence': 0.9998845, 'img_name': 'DWLorXSW0AMHaud.jpeg.436778f934faa68.jpeg'}\n",
      "prediction result:  {'true_clade': 'osteichthyes', 'pred_idx': 32, 'confidence': 0.9999558, 'img_name': '226.serve_image.php.jpg'}\n",
      "prediction result:  {'true_clade': 'osteichthyes', 'pred_idx': 32, 'confidence': 0.9997671, 'img_name': 'RSsAAOSwk~Vd2sl5s-l1600.jpg'}\n",
      "# images: 1200\n",
      "prediction result:  {'true_clade': 'ostracod', 'pred_idx': 33, 'confidence': 0.99837273, 'img_name': 'ostracod_4.1-s2.0-s1464343x17301577-egi10vwmtqhlj7_5.jpg'}\n",
      "prediction result:  {'true_clade': 'ostracod', 'pred_idx': 33, 'confidence': 0.9999815, 'img_name': 'ostracod_376.janicke_macroinvertebrates_1-768x576_4.jpg'}\n",
      "prediction result:  {'true_clade': 'ostracod', 'pred_idx': 33, 'confidence': 0.99995625, 'img_name': 'ostracod_Silurian-Myodocopida-a-j-Pauline-avi_2.jpg'}\n",
      "# images: 1200\n",
      "prediction result:  {'true_clade': 'petrified_wood', 'pred_idx': 34, 'confidence': 0.99761117, 'img_name': 'Petrified-Wood-02.jpg'}\n",
      "prediction result:  {'true_clade': 'petrified_wood', 'pred_idx': 34, 'confidence': 0.99885106, 'img_name': '230.x312-1_1.jpg'}\n",
      "prediction result:  {'true_clade': 'petrified_wood', 'pred_idx': 34, 'confidence': 0.9999988, 'img_name': 'udcAAOSwQOdf41zMs-l1600.jpg'}\n",
      "# images: 1195\n",
      "prediction result:  {'true_clade': 'placoderms', 'pred_idx': 48, 'confidence': 0.85559523, 'img_name': 'f4jpkrlk_fossil-generic_625x300_13_July_18.jpg'}\n",
      "prediction result:  {'true_clade': 'placoderms', 'pred_idx': 35, 'confidence': 1.0, 'img_name': '50.fossil-fish-pterichthodes-milleri-mid-devonian-caithness-scotland-b94b1d.jpg'}\n",
      "prediction result:  {'true_clade': 'placoderms', 'pred_idx': 35, 'confidence': 0.99974173, 'img_name': '320.f3.large.jpg'}\n",
      "# images: 1199\n",
      "prediction result:  {'true_clade': 'pteridophyte', 'pred_idx': 36, 'confidence': 0.9990326, 'img_name': 'XvIAAOSwyFBfzCV5s-l1600.jpg'}\n",
      "prediction result:  {'true_clade': 'pteridophyte', 'pred_idx': 36, 'confidence': 0.99960107, 'img_name': '19.lepidodendron-00008033-742x1024.jpg'}\n",
      "prediction result:  {'true_clade': 'pteridophyte', 'pred_idx': 36, 'confidence': 0.9997565, 'img_name': 'C0241392-Fossilised_bark_of_Lepidode.jpg'}\n",
      "# images: 1195\n",
      "prediction result:  {'true_clade': 'pterosaurs', 'pred_idx': 37, 'confidence': 0.99910444, 'img_name': '186.ls_pterodactylus.jpeg'}\n",
      "prediction result:  {'true_clade': 'pterosaurs', 'pred_idx': 37, 'confidence': 0.9945456, 'img_name': 'pterodactylus_sp_01_o.jpg'}\n",
      "prediction result:  {'true_clade': 'pterosaurs', 'pred_idx': 37, 'confidence': 0.9999602, 'img_name': '191.ornithocheirus-c52e38cb-de1e-404a-a50c-4fbcb41a130-resize-750.jpg'}\n",
      "# images: 1200\n",
      "prediction result:  {'true_clade': 'radiolarian', 'pred_idx': 38, 'confidence': 0.9999939, 'img_name': '863489.jpg'}\n",
      "prediction result:  {'true_clade': 'radiolarian', 'pred_idx': 38, 'confidence': 0.9999995, 'img_name': 'radiolarian_202.jes-29-3-594-3_4.jpg'}\n",
      "prediction result:  {'true_clade': 'radiolarian', 'pred_idx': 38, 'confidence': 0.9999567, 'img_name': 'radiolarian_36.fossil-radiolarians-from-zhilong-section-southern-tibet-china-a-pseudodictyomitra.ppm_11.jpg'}\n",
      "# images: 1191\n",
      "prediction result:  {'true_clade': 'reptile_teeth', 'pred_idx': 39, 'confidence': 0.9999858, 'img_name': 'jAQAAOSwFQFdD7qZs-l1600.jpg'}\n",
      "prediction result:  {'true_clade': 'reptile_teeth', 'pred_idx': 39, 'confidence': 0.9981299, 'img_name': '201.il_340x270.2942001989_sun5.jpg'}\n",
      "prediction result:  {'true_clade': 'reptile_teeth', 'pred_idx': 39, 'confidence': 0.9863712, 'img_name': 'GP8AAOSw3UFgJBr0s-l1600.jpg'}\n",
      "# images: 1198\n",
      "prediction result:  {'true_clade': 'sauropodomorph', 'pred_idx': 41, 'confidence': 0.99988794, 'img_name': '86.450.jpg'}\n",
      "prediction result:  {'true_clade': 'sauropodomorph', 'pred_idx': 41, 'confidence': 0.99996924, 'img_name': 'diplodocus-dinosaur-skeleton-known-a-1.jpg'}\n",
      "prediction result:  {'true_clade': 'sauropodomorph', 'pred_idx': 41, 'confidence': 0.9996301, 'img_name': 'N30AAOSwT~1eMj-6s-l1600.jpg'}\n",
      "# images: 1199\n",
      "prediction result:  {'true_clade': 'shark_teeth', 'pred_idx': 42, 'confidence': 0.9993925, 'img_name': 'tv4AAOSw7blfVHR-s-l1600.jpg'}\n",
      "prediction result:  {'true_clade': 'shark_teeth', 'pred_idx': 42, 'confidence': 0.99983966, 'img_name': 'lO0AAOSwFalgFa0Zs-l1600.jpg'}\n",
      "prediction result:  {'true_clade': 'shark_teeth', 'pred_idx': 42, 'confidence': 0.9999182, 'img_name': '7$_57-35.jpg'}\n",
      "# images: 486\n",
      "prediction result:  {'true_clade': 'snake', 'pred_idx': 43, 'confidence': 0.98844504, 'img_name': '189.origin-of-snakes-167-million-years.jpg'}\n",
      "prediction result:  {'true_clade': 'snake', 'pred_idx': 43, 'confidence': 0.9977412, 'img_name': '23.r1jjacfsllx21.jpg'}\n",
      "prediction result:  {'true_clade': 'snake', 'pred_idx': 43, 'confidence': 0.99997985, 'img_name': '73.martill3hr.jpg'}\n",
      "# images: 1200\n",
      "prediction result:  {'true_clade': 'sponge', 'pred_idx': 44, 'confidence': 0.9991979, 'img_name': 'sp013tnn__96577.1435982038.jpg'}\n",
      "prediction result:  {'true_clade': 'sponge', 'pred_idx': 44, 'confidence': 0.9999858, 'img_name': '77.siliceous-sponge-holcospongia-spoxfordian-from-poland-sp5.jpg'}\n",
      "prediction result:  {'true_clade': 'sponge', 'pred_idx': 44, 'confidence': 0.99966335, 'img_name': 'sanded_stromatoporoid_by_pr0teusunbound-d6yl1vq.jpg'}\n",
      "# images: 1200\n",
      "prediction result:  {'true_clade': 'spore_or_pollen', 'pred_idx': 45, 'confidence': 0.99674326, 'img_name': 'spore-or-pollen_Examples-of-pollen-and-spores-from-W_4.jpg'}\n",
      "prediction result:  {'true_clade': 'spore_or_pollen', 'pred_idx': 45, 'confidence': 0.99919015, 'img_name': 'spore-or-pollen_Figura-3-Esporas-perisporadas-spores_3.jpg'}\n",
      "prediction result:  {'true_clade': 'spore_or_pollen', 'pred_idx': 45, 'confidence': 0.9995065, 'img_name': 'spore-or-pollen_211.460271_1_en_13_fig6_html_12.jpg'}\n",
      "# images: 1199\n",
      "prediction result:  {'true_clade': 'starfish', 'pred_idx': 4, 'confidence': 0.99995995, 'img_name': '║г╨╟_hQkAAOSw3ypgJ0Uzs-l1600_5.jpg'}\n",
      "prediction result:  {'true_clade': 'starfish', 'pred_idx': 4, 'confidence': 0.9999937, 'img_name': '║г╨╟_128.10pcs-natural-starfish-sea-star-shell-aquarium-landscape_3.jpg'}\n",
      "prediction result:  {'true_clade': 'starfish', 'pred_idx': 4, 'confidence': 0.99999905, 'img_name': 'jurassic-solnhofen-riedaster-reichel-13 (2).jpg'}\n",
      "# images: 1200\n",
      "prediction result:  {'true_clade': 'stromatolite', 'pred_idx': 46, 'confidence': 0.99991906, 'img_name': '75.s-l400.jpg'}\n",
      "prediction result:  {'true_clade': 'stromatolite', 'pred_idx': 46, 'confidence': 0.9970108, 'img_name': 'LtcAAOSw9Mhewnw8s-l1600.jpg'}\n",
      "prediction result:  {'true_clade': 'stromatolite', 'pred_idx': 46, 'confidence': 0.9995178, 'img_name': 'Sutherland44-1024x768.jpg'}\n",
      "# images: 1199\n",
      "prediction result:  {'true_clade': 'theropod', 'pred_idx': 40, 'confidence': 0.99962807, 'img_name': '14.915kbp5yupl.jpg'}\n",
      "prediction result:  {'true_clade': 'theropod', 'pred_idx': 40, 'confidence': 0.99969566, 'img_name': '82.dhz0_sex4aa6fip.jpg'}\n",
      "prediction result:  {'true_clade': 'theropod', 'pred_idx': 40, 'confidence': 0.9995801, 'img_name': 'il_fullxfull.2027572098_cioy.jpg'}\n",
      "# images: 1110\n",
      "prediction result:  {'true_clade': 'trace_fossil', 'pred_idx': 47, 'confidence': 0.91357356, 'img_name': '235.2_10_33_02_city-scientist-leads-the-way-for-countrys-first-dinosaur-museum-and-fossil-park-in-gujarat_1_h@@ight_337_w@@idth_1024.jpg'}\n",
      "prediction result:  {'true_clade': 'trace_fossil', 'pred_idx': 47, 'confidence': 0.9999753, 'img_name': 'post-13012-0-06694200-1389036813.jpg'}\n",
      "prediction result:  {'true_clade': 'trace_fossil', 'pred_idx': 47, 'confidence': 0.99672604, 'img_name': 'post-17689-0-79014900-1424995370.jpg'}\n",
      "# images: 1200\n",
      "prediction result:  {'true_clade': 'trilobite', 'pred_idx': 48, 'confidence': 0.9997228, 'img_name': 'VZIAAOSwrsdeRL77s-l1600.jpg'}\n",
      "prediction result:  {'true_clade': 'trilobite', 'pred_idx': 48, 'confidence': 0.99940205, 'img_name': 'gabriceraurus-mifflinensis.jpg'}\n",
      "prediction result:  {'true_clade': 'trilobite', 'pred_idx': 48, 'confidence': 0.99814606, 'img_name': 'xZsAAOSwYGJgKtGws-l1600.jpg'}\n",
      "# images: 1197\n",
      "prediction result:  {'true_clade': 'turtle', 'pred_idx': 49, 'confidence': 0.9908207, 'img_name': '139.0256-7024-rgac-59-39-gf2.jpg'}\n",
      "prediction result:  {'true_clade': 'turtle', 'pred_idx': 49, 'confidence': 0.9999583, 'img_name': 'archelon-turtle-white-was-giant-mari.jpg'}\n",
      "prediction result:  {'true_clade': 'turtle', 'pred_idx': 49, 'confidence': 0.9994804, 'img_name': '276.piqsels.com-id-okyns_750_500_70.jpg'}\n"
     ]
    }
   ],
   "source": [
    "# Collect predictions for each clade\n",
    "all_predictions = []\n",
    "\n",
    "for clade in class_names: \n",
    "    clade_folder = FID_DATA_PATH / clade \n",
    "    imgs = [p for p in clade_folder.iterdir() if p.suffix.lower() in [\".jpg\", \".jpeg\", \".png\"]]\n",
    "    if not imgs:\n",
    "        continue\n",
    "    print(f\"# images: {len(imgs)}\")\n",
    "\n",
    "    # Sample 3 random images \n",
    "    sample_size = min(3, len(imgs))\n",
    "    rng = random.Random(42)\n",
    "    sample_imgs = rng.sample(imgs, sample_size)\n",
    "\n",
    "    for img_path in sample_imgs:\n",
    "        _, img_norm = preprocess_image_keras_normalization(img_path)\n",
    "        probs = predict(img_norm)\n",
    "        pred_idx = np.argmax(probs)\n",
    "        pred_conf = probs[pred_idx]\n",
    "\n",
    "        prediction_result = {\n",
    "            'true_clade': clade, \n",
    "            'pred_idx': pred_idx,\n",
    "            'confidence': pred_conf,\n",
    "            'img_name': img_path.name \n",
    "        }\n",
    "        print('prediction result: ', prediction_result)\n",
    "        all_predictions.append(prediction_result)\n",
    "\n",
    "        \n",
    "\n",
    "\n"
   ]
  },
  {
   "cell_type": "code",
   "execution_count": null,
   "id": "b516ace1",
   "metadata": {},
   "outputs": [],
   "source": [
    "# Define paths for saving to JSON file \n",
    "\n",
    "RESULTS_DIR = Path(\"..\") / \"results\"\n",
    "RESULTS_DIR.mkdir(parents=True, exist_ok=True)\n",
    "\n",
    "SAVE_PATH = RESULTS_DIR / \"index_to_clade_prediction_results.json\""
   ]
  },
  {
   "cell_type": "code",
   "execution_count": null,
   "id": "cc6402d7",
   "metadata": {},
   "outputs": [],
   "source": [
    "# Save to JSON file \n",
    "def to_python(obj):\n",
    "    if isinstance(obj, np.generic):  # catches np.int64, np.float32, etc.\n",
    "        return obj.item()\n",
    "    raise TypeError(f\"Object of type {obj.__class__.__name__} is not JSON serializable\")\n",
    "\n",
    "with SAVE_PATH.open(\"w\") as f:\n",
    "    json.dump(all_predictions, f, indent=2, default=to_python)"
   ]
  },
  {
   "cell_type": "code",
   "execution_count": 9,
   "id": "f340d4ba",
   "metadata": {},
   "outputs": [
    {
     "ename": "NameError",
     "evalue": "name 'SAVE_PATH' is not defined",
     "output_type": "error",
     "traceback": [
      "\u001b[0;31m---------------------------------------------------------------------------\u001b[0m",
      "\u001b[0;31mNameError\u001b[0m                                 Traceback (most recent call last)",
      "Cell \u001b[0;32mIn[9], line 2\u001b[0m\n\u001b[1;32m      1\u001b[0m \u001b[38;5;66;03m# Load JSON back into Python\u001b[39;00m\n\u001b[0;32m----> 2\u001b[0m \u001b[38;5;28;01mwith\u001b[39;00m \u001b[43mSAVE_PATH\u001b[49m\u001b[38;5;241m.\u001b[39mopen(\u001b[38;5;124m\"\u001b[39m\u001b[38;5;124mr\u001b[39m\u001b[38;5;124m\"\u001b[39m) \u001b[38;5;28;01mas\u001b[39;00m f:\n\u001b[1;32m      3\u001b[0m     loaded_predictions \u001b[38;5;241m=\u001b[39m json\u001b[38;5;241m.\u001b[39mload(f)\n\u001b[1;32m      5\u001b[0m \u001b[38;5;66;03m# Now `loaded_predictions` is a dict/list structure\u001b[39;00m\n",
      "\u001b[0;31mNameError\u001b[0m: name 'SAVE_PATH' is not defined"
     ]
    }
   ],
   "source": [
    "# Load JSON back into Python\n",
    "with SAVE_PATH.open(\"r\") as f:\n",
    "    loaded_predictions = json.load(f)\n",
    "\n",
    "# Now `loaded_predictions` is a dict/list structure\n",
    "print(type(loaded_predictions))\n",
    "print(list(loaded_predictions.items())[:3])  # peek at first few entries if it's a dict"
   ]
  },
  {
   "cell_type": "code",
   "execution_count": null,
   "id": "5b338be3",
   "metadata": {},
   "outputs": [],
   "source": [
    "df_preds = pd.DataFrame(all_predictions)\n",
    "\n",
    "vote_counts = df_preds.groupby(['true_clade', 'pred_idx']).size().reset_index(name='votes')\n",
    "\n",
    "idx_max = vote_counts.groupby(['true_clade', ])"
   ]
  }
 ],
 "metadata": {
  "kernelspec": {
   "display_name": "tf-modern",
   "language": "python",
   "name": "python3"
  },
  "language_info": {
   "codemirror_mode": {
    "name": "ipython",
    "version": 3
   },
   "file_extension": ".py",
   "mimetype": "text/x-python",
   "name": "python",
   "nbconvert_exporter": "python",
   "pygments_lexer": "ipython3",
   "version": "3.10.18"
  }
 },
 "nbformat": 4,
 "nbformat_minor": 5
}
